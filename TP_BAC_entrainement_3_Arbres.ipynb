{
 "cells": [
  {
   "cell_type": "markdown",
   "metadata": {},
   "source": [
    "## TP BAC - ENTRAINEMENT 3 "
   ]
  },
  {
   "cell_type": "markdown",
   "metadata": {},
   "source": [
    "**Exercice 2 :**    \n",
    "Programmer une fonction indice_du_min qui prend en paramètre un tableau non vide d’entiers et qui renvoie l’indice de la première occurrence du minimum de ce tableau. (la première fois qu'on rencontre le minimum). Les tableaux sont représentés par le type list Python.  \n",
    "On ne peut pas utiliser la fonction index() ni la fonction min() déjà programmée en python, par contre elles vont servir pour un jeu de tests."
   ]
  },
  {
   "cell_type": "code",
   "execution_count": 4,
   "metadata": {},
   "outputs": [],
   "source": [
    "from random import randint\n",
    "\n",
    "def indice_du_min(tab:list)->int:\n",
    "    \"\"\"\n",
    "    Détermine l'indice de la première occurrence du minimum du tableau\n",
    "    Paramètres :\n",
    "    tab : list d'entiers\n",
    "    Pré-conditions : tab est non vide\n",
    "    Tests :\n",
    "    >>> indice_du_min([5])\n",
    "    0\n",
    "    >>> indice_du_min([2,4,1])\n",
    "    2\n",
    "    >>> indice_du_min([5,3,2,2,4])\n",
    "    2\n",
    "    \"\"\"\n",
    "    \n",
    "    \n",
    "#jeu de tests\n",
    "for k in range(1,10):\n",
    "    hasard=[randint(1,50) for i in range(k)]\n",
    "    assert hasard.index(min(hasard))==indice_du_min(hasard)"
   ]
  },
  {
   "cell_type": "markdown",
   "metadata": {},
   "source": [
    "**Exercice 2 :**    \n",
    "Utiliser un parcours d'arbre pour connaitre la somme des valeurs des noeuds d'un arbre. On parcourt l'arbre noeud par noeud et à chaque noeud on ajoute la valeur du noeud à la somme.\n",
    "Par ex si l'arbre a pour noeud (2,8,10,15,7,5,6), il faut calculer 2+8+10+15+7+5+6  \n",
    "\n",
    "On travaille en POO avec la classe noeud.  \n",
    "On peut utiliser un variable globale somme\n",
    "\n"
   ]
  },
  {
   "cell_type": "code",
   "execution_count": null,
   "metadata": {},
   "outputs": [],
   "source": [
    "class Noeud:\n",
    "    # Le constructeur\n",
    "    def __init__(self, value, left=None, right=None):\n",
    "        self.value = value\n",
    "        self.left = left\n",
    "        self.right = right\n",
    "         \n",
    "    # Méthode qui permet d'afficher la valeur\n",
    "    # de la racine avec la fonction print\n",
    "    def __str__(self):\n",
    "        return str(self.value)\n",
    "    \n",
    "    def estFeuille(self):\n",
    "        \n",
    "            if self.left==None and self.right==None:\n",
    "                return True\n",
    "            else:\n",
    "                return False   \n",
    "#----------------------------------------------------------    \n",
    "#ARBRE POUR LE TEST \n",
    "k = Noeud(10)\n",
    "f = Noeud(5)\n",
    "e = Noeud(1, k, None)\n",
    "b = Noeud(9, e, f)\n",
    "m = Noeud(12)\n",
    "j = Noeud(7, m, None)\n",
    "i = Noeud(3)\n",
    "d = Noeud(11, i, j)\n",
    "h = Noeud(8)\n",
    "c = Noeud(16, None, h)\n",
    "a = Noeud(14, c, d)\n",
    "arbre = Noeud(4, a, b)\n",
    "\n",
    "#parcours d'arbre d'entier pour calculer la somme des valeurs de ces noeuds\n",
    "\n"
   ]
  },
  {
   "cell_type": "markdown",
   "metadata": {},
   "source": [
    "**Exercice 2 :** Vous allez travailler sur un arbre binaire de recherche implémenté comme une liste de listes.\n",
    "1. Ecrire une liste par compréhension en prenant au hasard 20 nombres entre 1 et 100\n",
    "2. Avec la fonction insertion_rec() insérer tous les nombres de votre liste dans l'arbre. Afficher l'arbre avec un print().\n",
    "3. Compléter la fonction recherche()\n",
    "4. Faire le test suivant : prendre 30 nombres au hasard entre 1 et 100 et dire s'ils sont dans l'arbre\n",
    "5. Ecrire la fonction maximum() et minimum() qui recherche le maximum et minimum dans un arbre\n",
    "6. Ecrire un jeu de tests qui sur des listes au hasard (plusieurs !!) vérifie que le maximum et le minimum des noeuds de l'arbre (construit grâce à la liste) correspondent bien au max et min de la liste de nombres (fonction max() min() de python) "
   ]
  },
  {
   "cell_type": "code",
   "execution_count": null,
   "metadata": {},
   "outputs": [],
   "source": [
    "def insertion_rec(arbre,val):\n",
    "    \"\"\"insère de manière récursive val dans un arbre binaire de recherche\n",
    "    implémenté comme liste de listes\n",
    "    val : variable de type qui possède un ordre (int,float,str ...)\"\"\"\n",
    "    if val<arbre[0]:\n",
    "        if arbre[1]==[]:\n",
    "            arbre[1]=[val,[],[]]\n",
    "            \n",
    "        else:\n",
    "            insertion_rec(arbre[1],val)\n",
    "            \n",
    "    elif val>arbre[0]:\n",
    "        if arbre[2]==[]:\n",
    "            arbre[2]=[val,[],[]]\n",
    "          \n",
    "        else:\n",
    "            insertion_rec(arbre[2],val)   \n",
    "\n",
    "#liste par compréhension\n",
    "\n",
    "\n",
    "#création de l'arbre par insertion\n",
    "abr=[liste[0],[],[]]\n",
    "#....\n",
    "\n",
    "#affichage de l'arbre avec un print\n",
    "\n",
    "\n",
    "#\n",
    "def recherche(arbre,val):\n",
    "    \"\"\"recherche d'une valeur dans un ABR écrit comme liste de listes\n",
    "    val est la valeur recherchée\"\"\"\n",
    "    if arbre!=[]:\n",
    "        if val==......... :\n",
    "                return(True)\n",
    "        elif val<...........:\n",
    "                return(recherche(........,val))\n",
    "        elif ................ :\n",
    "                return(.......................)\n",
    "       \n",
    "    return(False)            \n",
    "\n",
    "#TEST de la fonction recherche sur 30 nombres au hasard\n",
    "\n",
    "def maximum(arbre):\n",
    "    \"\"\"renvoie le noeud le plus grand de l'arbre\"\"\"\n",
    "    pass\n",
    "        \n",
    "def minimum(arbre):\n",
    "    \"\"\"renvoie le noeud le plus petit de l'arbre\"\"\"\n",
    "    pass\n",
    "\n",
    "#JEU de tests, utilisation de listes, de la fonction min(liste) et max(liste)\n",
    "\n"
   ]
  }
 ],
 "metadata": {
  "kernelspec": {
   "display_name": "Python 3",
   "language": "python",
   "name": "python3"
  },
  "language_info": {
   "codemirror_mode": {
    "name": "ipython",
    "version": 3
   },
   "file_extension": ".py",
   "mimetype": "text/x-python",
   "name": "python",
   "nbconvert_exporter": "python",
   "pygments_lexer": "ipython3",
   "version": "3.7.3"
  }
 },
 "nbformat": 4,
 "nbformat_minor": 2
}
