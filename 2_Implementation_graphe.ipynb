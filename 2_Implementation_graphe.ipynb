{
 "cells": [
  {
   "cell_type": "markdown",
   "metadata": {},
   "source": [
    "**Exercice 7 : Implémentation Python**\n",
    "![title](graphe.png)\n",
    "1) Construire le dictionnaire représentant ce graphe  \n",
    "2) Compléter la fonction dessine_matrice() qui permet d’obtenir la matrice du graphe  \n",
    "3) Utiliser la fonction dessine_arbre() qui dessine l'arbre.   \n",
    "La bibliothèque networkX permet de manipuler des graphes  \n",
    "•\ton importe le module : import network as nx  \n",
    "•\ton crée un graphe vide : g=nx.Graph()  \n",
    "•\ton ajoute les sommets (appelés node) : g.add_node(’a’) ou en lot g.add_node_from(\\[’a’,’b’,’c’,’d’ \\])  \n",
    "•\ton ajoute les arêtes (appelées edge) : g.add.edge(’a’,’b’) ou en lot g.add_edges_from(\\[(’a’,’b’), (’b’,’c’), (’e’,’f’)\\])  \n",
    "•\ton dessine le graphe :   \n",
    "with_labels=True : noms des sommets sont écrits  \n",
    "font_weight='bold' : écriture en gras  \n",
    "node_size=800 : taille des sommets  \n",
    "node_color='lightgrey' : couleur des sommets  \n"
   ]
  },
  {
   "cell_type": "code",
   "execution_count": 5,
   "metadata": {},
   "outputs": [
    {
     "name": "stdout",
     "output_type": "stream",
     "text": [
      "0 1 1 0 0 0 0 0\n",
      "1 0 0 1 1 0 0 0\n",
      "1 0 0 1 0 0 0 0\n",
      "0 1 1 0 1 0 0 0\n",
      "0 1 0 1 0 1 1 0\n",
      "0 0 0 0 1 0 1 0\n",
      "0 0 0 0 1 1 0 1\n",
      "0 0 0 0 0 0 1 0\n"
     ]
    },
    {
     "data": {
      "image/png": "[encoded data removed]",
      "text/plain": [
       "<Figure size 432x288 with 1 Axes>"
      ]
     },
     "metadata": {},
     "output_type": "display_data"
    }
   ],
   "source": [
    "G={}\n",
    "G['a'] = ['b','c']\n",
    "G['b'] = ['a','d','e']\n",
    "\n",
    "\n",
    "\n",
    "def dessine_matrice(dico):\n",
    "    \"\"\"dessine la matrice associée à un dictionnaire qui\n",
    "    représente un arbre\"\"\"\n",
    "    liste=list(dico.keys())\n",
    "    n=...\n",
    "    A=[[0]*n for .....]   #matrice vide\n",
    "    for i in range(n):\n",
    "        for j in range(n):\n",
    "            if liste[j] in ..........:\n",
    "                A[i][j]=1\n",
    "    for i in range(n):\n",
    "        print(*............)\n",
    "        \n",
    "import matplotlib.pyplot as plt\n",
    "import networkx as nx\n",
    "        \n",
    "def dessine_arbre(dico):\n",
    "        \"\"\"utilisation des modules network et matplotlib pour dessiner l'arbre\"\"\"\n",
    "        g=nx.Graph()\n",
    "        liste=list(dico.keys())        \n",
    "        g.add_nodes_from(liste)\n",
    "        for s in liste:            \n",
    "            for t in dico[s]:\n",
    "                g.add_edge(s,t)  #les arrêtes sont écrites deux fois\n",
    "        nx.draw(g, with_labels=True, font_weight='bold', node_size=800, node_color='lightgrey')\n",
    "        plt.show()\n",
    "\n",
    "   "
   ]
  },
  {
   "cell_type": "raw",
   "metadata": {},
   "source": [
    "4) Écrire des fonctions permettant d'obtenir les informations suivantes sur le graphe :\n",
    "a) le nombre de sommets du graphe\n",
    "b) le nombre d'arêtes du graphe\n",
    "c) le degré d’un sommet\n",
    "d) les voisins d’un sommet\n",
    "e) comment trouver le sommet qui a le plus d’amis ?\n"
   ]
  },
  {
   "cell_type": "code",
   "execution_count": 7,
   "metadata": {},
   "outputs": [
    {
     "name": "stdout",
     "output_type": "stream",
     "text": [
      "8\n",
      "10\n",
      "2\n",
      "['a', 'd', 'e']\n",
      "e\n"
     ]
    }
   ],
   "source": [
    "def nb_sommets(G)->int:\n",
    "    \"\"\"renvoie le nombre de sommets du graphe\"\"\"\n",
    "    pass\n",
    "\n",
    " \n",
    "\n",
    "def aretes(G)->int:\n",
    "    \"\"\"renvoie le nombre d'arrêtes\n",
    "    on somme toutes les arrêtes donc elles sont en doubles\"\"\"\n",
    "    pass\n",
    "\n",
    " \n",
    "def degre(G,sommet)->int:\n",
    "    \"\"\"retourne le degré d'un sommet\"\"\"\n",
    "    pass\n",
    "\n",
    " \n",
    "\n",
    "def voisin(G,sommet)->list:\n",
    "    \"\"\"retourne les voisins d'un sommet\"\"\"\n",
    "    pass\n",
    "\n",
    " \n",
    "def plus_d_amis(G):\n",
    "    \"\"\"renvoie le sommet qui a le plus d'amis\"\"\"\n",
    "    pass\n",
    "\n"
   ]
  },
  {
   "cell_type": "markdown",
   "metadata": {},
   "source": [
    "**Application :**\n",
    "![title](graphe2.png)"
   ]
  },
  {
   "cell_type": "code",
   "execution_count": null,
   "metadata": {},
   "outputs": [],
   "source": []
  }
 ],
 "metadata": {
  "celltoolbar": "Aucun(e)",
  "kernelspec": {
   "display_name": "Python 3",
   "language": "python",
   "name": "python3"
  },
  "language_info": {
   "codemirror_mode": {
    "name": "ipython",
    "version": 3
   },
   "file_extension": ".py",
   "mimetype": "text/x-python",
   "name": "python",
   "nbconvert_exporter": "python",
   "pygments_lexer": "ipython3",
   "version": "3.7.3"
  }
 },
 "nbformat": 4,
 "nbformat_minor": 2
}
