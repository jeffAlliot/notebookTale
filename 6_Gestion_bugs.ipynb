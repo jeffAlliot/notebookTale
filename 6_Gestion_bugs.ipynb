{
 "cells": [
  {
   "cell_type": "markdown",
   "metadata": {},
   "source": [
    "# Mise au point des programmes. Gestion des bugs"
   ]
  },
  {
   "cell_type": "markdown",
   "metadata": {},
   "source": [
    "**I- Les principales erreurs Python**"
   ]
  },
  {
   "cell_type": "markdown",
   "metadata": {},
   "source": [
    "* ZeroDivisionError: integer division or modulo by zero\n",
    "\tCalcul mathématiques où une division par zéro est présente\n",
    "    \n",
    "* IndexError: list index out of range\n",
    " \tOn demande le contenu d’une case d’une liste, mais cette case n’existe pas\n",
    "    \n",
    "* KeyError: 'nope'\n",
    " \tClé de dictionnaire inconnue\n",
    "   \n",
    "* TypeError: \n",
    "    Mauvaise utilisation de type, type non adapté\n",
    " \n",
    "* ImportError:  \n",
    "\tModule inconnu \n",
    "\n",
    "* NameError: \n",
    "\tLa variable utilisée n’existe pas ou sera crée plus loin dans le programme, vérifier l’orthographe de la variable\n",
    "   \n",
    "* ValueError:\n",
    "    Le calcul n'est pas possible\n",
    "\n",
    "* SyntaxError: invalid syntax\n",
    "    Erreur de frappe, oubli de parenthèse, de « : » ou autre symbole python, le double « == » dans un test\n",
    "    \n",
    "* SyntaxError: unexpected EOF while parsing\n",
    "\tOubli de fermer une parenthèse la ligne précédente\n",
    " \n",
    "* IndentationError : expected an indented block\n",
    "    Les indentions sont oubliés ou mal faites\n",
    "\n",
    "* UnboundLocalError: local variable 'nombre' referenced before assignment\n",
    "    Une variable est utilisée avant d’être créée\n",
    "\n",
    "Il vous reste à corriger tous les scripts suivants :) "
   ]
  },
  {
   "cell_type": "code",
   "execution_count": null,
   "metadata": {},
   "outputs": [],
   "source": [
    "a=5\n",
    "if a>0:\n",
    "print(\"a est superieur a 0\")"
   ]
  },
  {
   "cell_type": "code",
   "execution_count": null,
   "metadata": {},
   "outputs": [],
   "source": [
    "def puissance(a,b)\n",
    "a**b\n",
    "print(puissance(2,2))"
   ]
  },
  {
   "cell_type": "code",
   "execution_count": null,
   "metadata": {},
   "outputs": [],
   "source": [
    "nom=\"Henri Crochet\"\n",
    "print(\"ton nom est : \",non)"
   ]
  },
  {
   "cell_type": "code",
   "execution_count": null,
   "metadata": {},
   "outputs": [],
   "source": [
    "fruits= (\"kiwi\",\"banane\",\"pomme\")\n",
    "fruits[1]=\"poire\"\n",
    "print(fruits)"
   ]
  },
  {
   "cell_type": "code",
   "execution_count": null,
   "metadata": {},
   "outputs": [],
   "source": [
    "import mathematiques\n",
    "print(mathematiques.pow(4,2))"
   ]
  },
  {
   "cell_type": "code",
   "execution_count": null,
   "metadata": {},
   "outputs": [],
   "source": [
    "def poids(m):\n",
    "return m*g\n",
    "print(poids(80))"
   ]
  },
  {
   "cell_type": "code",
   "execution_count": null,
   "metadata": {},
   "outputs": [],
   "source": [
    "def paireImpaire(n):\n",
    "    if n%2=0:\n",
    "        print(n,\" est paire\")\n",
    "    else:\n",
    "        print(n,\" est impaire\")"
   ]
  },
  {
   "cell_type": "code",
   "execution_count": null,
   "metadata": {},
   "outputs": [],
   "source": [
    "def degreeEnRadian(d):\n",
    "    pi=3,14\n",
    "    return pi*d/180\n",
    "print(degreeEnRadian(10))"
   ]
  },
  {
   "cell_type": "code",
   "execution_count": null,
   "metadata": {},
   "outputs": [],
   "source": [
    "def Ec(m,v):\n",
    "    return 0.5*m*v**2\n",
    "print(Ec(100,10,5))"
   ]
  },
  {
   "cell_type": "code",
   "execution_count": null,
   "metadata": {},
   "outputs": [],
   "source": [
    "def factorielle(n):\n",
    "    for k in range(n+1):\n",
    "        nombre=nombre*k\n",
    "    return nombre\n",
    "print(factorielle(8))"
   ]
  },
  {
   "cell_type": "code",
   "execution_count": null,
   "metadata": {},
   "outputs": [],
   "source": [
    "def divisible_par(n,p):\n",
    "    if n%p==0:\n",
    "        print(n + \"divisible par \" + p)\n",
    "        print (\"c'est super!\")\n",
    "divisible_par(100,4)"
   ]
  },
  {
   "cell_type": "code",
   "execution_count": null,
   "metadata": {},
   "outputs": [],
   "source": [
    "classe=\"TSI\"\n",
    "classe=classe+2\n",
    "print(classe)"
   ]
  },
  {
   "cell_type": "code",
   "execution_count": null,
   "metadata": {},
   "outputs": [],
   "source": [
    "def carre(x):\n",
    "    return x**2\n",
    "\n",
    "print(3xcarre(7)\n",
    "print(\"impeccable\")"
   ]
  },
  {
   "cell_type": "code",
   "execution_count": null,
   "metadata": {},
   "outputs": [],
   "source": [
    "liste=[3,4,5,6,7,9]\n",
    "for i in range(7):\n",
    "    print(liste[i]*2)"
   ]
  },
  {
   "cell_type": "markdown",
   "metadata": {},
   "source": [
    "**II-Les assertions**\n",
    "\n",
    "Assert dans la fonction :\n",
    "Compléter la focntion suivante sachant que\n",
    "* 'total doit être strictement positif'\n",
    "* 'score doit être positif'\n",
    "* 'score doit être positif'\n",
    "\n",
    "Assert en guise de test :\n",
    "Ajouter deux asserts en dehors de la fonction\n",
    "* le premier True\n",
    "* le deuxième False\n"
   ]
  },
  {
   "cell_type": "code",
   "execution_count": null,
   "metadata": {},
   "outputs": [],
   "source": [
    "def percentage(score, total):\n",
    "    return score / total * 100"
   ]
  },
  {
   "cell_type": "markdown",
   "metadata": {},
   "source": [
    "**III- Les Exceptions**\n",
    "\n",
    "Voici un exemple"
   ]
  },
  {
   "cell_type": "code",
   "execution_count": null,
   "metadata": {},
   "outputs": [],
   "source": [
    "def Affiche_inverse(x):\n",
    "    try:\n",
    "        print(1/x)\n",
    "    except ZeroDivisionError :\n",
    "        print(\"0 n'a pas d'inverse\")\n",
    "    except TypeError :\n",
    "        print(\"il faut un int ou un float\")\n",
    "        \n",
    "Affiche_inverse(5)\n",
    "Affiche_inverse(0)\n",
    "Affiche_inverse(\"a\")"
   ]
  },
  {
   "cell_type": "markdown",
   "metadata": {},
   "source": [
    "A vous de jouer :\n",
    "\n",
    "Réécrire deux fois la fonction racine_carree :\n",
    "* Attraper une exception si la valeur est négative avec un try except\n",
    "* Ecrire un type d'exception nouveau \"la valeur est négative\" avec un raise"
   ]
  },
  {
   "cell_type": "code",
   "execution_count": null,
   "metadata": {},
   "outputs": [],
   "source": [
    "from math import sqrt\n",
    "def racine_carree(x):\n",
    "    return(sqrt(x))\n",
    "    \n",
    "print(racine_carree(-3))"
   ]
  },
  {
   "cell_type": "markdown",
   "metadata": {},
   "source": [
    "Le script suivant est une boucle sans fin.\n",
    "\n",
    "Pour arrêter ce programme, il faut appuyer sur l'icône carré noir (interrompre le noyau), ce qui lève une exception de type KeyboardInterrupt\n",
    "\n",
    "Compléter le script pour gérer proprement l'exception en écrivant : Fin du programme "
   ]
  },
  {
   "cell_type": "code",
   "execution_count": null,
   "metadata": {},
   "outputs": [],
   "source": [
    "i = 0\n",
    "while True:   \n",
    "    i += 1\n",
    "    print(i)\n",
    "    \n",
    "    "
   ]
  },
  {
   "cell_type": "markdown",
   "metadata": {},
   "source": [
    "Le script suivant demande l'âge d'une personne, compléter le pour gérer :\n",
    "* les réponses d'un type non int ou float lors du calcul de int(age)+10 \n",
    "* les âges négatifs non acceptés \n",
    "* les âges flottants non acceptés"
   ]
  },
  {
   "cell_type": "code",
   "execution_count": null,
   "metadata": {},
   "outputs": [],
   "source": [
    "def ajout(age) :\n",
    "    return(int(age)+10)\n",
    "    \n",
    "print(ajout(20))\n",
    "#print(ajout(10.3))\n",
    "#print(ajout(-2))\n",
    "#print(ajout(\"bonjour\"))\n",
    "        \n",
    "\n"
   ]
  },
  {
   "cell_type": "markdown",
   "metadata": {},
   "source": [
    "**IV- Les jeux de tests** \n",
    "\n",
    "Voici un exemple de jeu de tests automatiques"
   ]
  },
  {
   "cell_type": "code",
   "execution_count": null,
   "metadata": {},
   "outputs": [],
   "source": [
    "def tri(liste):\n",
    "    return(sorted(liste))  \n",
    "    \n",
    "def test(liste):\n",
    "    liste_trie=tri(liste)\n",
    "    for i in range(0,len(liste_trie)-1):\n",
    "        assert liste_trie[i]<=liste_trie[i+1]\n",
    "                \n",
    "test([])\n",
    "test([1,2])\n",
    "\n",
    "from random import randint\n",
    "def tableau_aleatoire(n, a, b):\n",
    "    return [ randint(a, b) for i in range(n) ]\n",
    "\n",
    "for n in range(100):\n",
    "    test(tableau_aleatoire(n, 0, 0))\n",
    "    test(tableau_aleatoire(n, 0, 100))\n",
    "    test(tableau_aleatoire(n, - 10 * n, 10 * n))\n",
    "    test(tableau_aleatoire(n, 0, n // 4))\n",
    "    test(tableau_aleatoire(n, 0, n * 10))\n",
    "    test(tableau_aleatoire(n, -n // 4, 0))\n",
    "    test(tableau_aleatoire(n, -n * 10, 0))"
   ]
  },
  {
   "cell_type": "markdown",
   "metadata": {},
   "source": [
    "A vous de jouer : la fonction suivante calcule donne le nombre de \"a\" d'une chaine de caractère.\n",
    "\n",
    "On veut tester automatiquement si elle fonctionne :\n",
    "* compléter la fonction test qui vérifie que le nombre de \"a\" est bien le bon\n",
    "* créer une boucle de tests automatiques grâce au module random qui va permettre de créer des centaines de mots au hasard"
   ]
  },
  {
   "cell_type": "code",
   "execution_count": null,
   "metadata": {},
   "outputs": [],
   "source": [
    "#voici la fonction à tester\n",
    "def occurrence_a(chaine):\n",
    "    \"\"\"compte le nombre de a dans la chaine\n",
    "    chaine -> str\n",
    "    résultat -> int \"\"\"\n",
    "    compteur=0\n",
    "    for elt in chaine :\n",
    "        if elt==\"a\" :\n",
    "            compteur+=1\n",
    "    return(compteur)\n",
    "\n",
    "#chaine.count(\"a\") -> fonction python qui compte le nombre de a dans la chaine\n",
    "def test(chaine) :\n",
    "    assert ...==...\n",
    "\n",
    "from random import choice\n",
    "#choice(alphabet) -> choisis une lettre au hasard dans la liste alphabet\n",
    "def mot_hasard(n):\n",
    "    \"\"\"crée un mot au hasard de n lettres avec les la liste alphabet\"\"\"\n",
    "    alphabet=[\"a\",\"b\",\"c\",\"d\",\"e\",\"f\",\"g\",\"h\",\"i\",\"j\",\"k\",\"l\",\"m\",\"n\",\"o\",\"p\",\"q\",\"r\",\"s\",\"t\",\"u\",\"v\",\"w\",\"x\",\"y\",\"z\"]\n",
    "    mot=\"\"\n",
    "    for ... :\n",
    "        mot=...\n",
    "    return(mot)\n",
    "\n",
    "#utiliser 500 fois la fonction test sur des mots au hasard de longeurs différentes\n"
   ]
  },
  {
   "cell_type": "markdown",
   "metadata": {},
   "source": [
    "Voici une fonction qui teste la présence d'une majuscule dans une chaine\n",
    "\n",
    "Tester plusieurs chaines. Cela vous convient-il ? Avez vous pensez à tout type de chaine ?\n",
    "\n",
    "Corriger la fonction si besoin ..."
   ]
  },
  {
   "cell_type": "code",
   "execution_count": null,
   "metadata": {},
   "outputs": [],
   "source": [
    "def PresenceMaj(chaine):\n",
    "    \"\"\"détecte la présence d'une majuscule dans uen chaine\n",
    "    chaine -> str\n",
    "    résultat -> booléen \"\"\"\n",
    "    nb=0\n",
    "    for elt in chaine:\n",
    "        if elt.upper()=elt :  #si l'elt en majuscule est égal à l'elt\n",
    "            nb+=1\n",
    "    if nb>0 :\n",
    "        return(True)\n",
    "    else :\n",
    "        return(False)"
   ]
  }
 ],
 "metadata": {
  "kernelspec": {
   "display_name": "Python 3",
   "language": "python",
   "name": "python3"
  },
  "language_info": {
   "codemirror_mode": {
    "name": "ipython",
    "version": 3
   },
   "file_extension": ".py",
   "mimetype": "text/x-python",
   "name": "python",
   "nbconvert_exporter": "python",
   "pygments_lexer": "ipython3",
   "version": "3.7.3"
  }
 },
 "nbformat": 4,
 "nbformat_minor": 2
}
