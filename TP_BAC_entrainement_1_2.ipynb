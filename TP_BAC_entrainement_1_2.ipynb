{
 "cells": [
  {
   "cell_type": "markdown",
   "metadata": {},
   "source": [
    "## TP BAC - ENTRAINEMENT 1 "
   ]
  },
  {
   "cell_type": "markdown",
   "metadata": {},
   "source": [
    "**Exercice 1 :**    \n",
    "Un objet de type  list en Python a une méthode  reverse() qui inverse l’ordre des éléments de la liste en place, ce qui signifie que l’objet est modifié une fois que la méthode ait été appliqué à l’objet.  \n",
    "Implémenter en Python une fonction inverse(L) , qui étant donné une variable  L de type list en Python,  par exemple L = [1, 2, 3] retourne une nouvelle liste notée inv_list que l’on nomme l’inverse de L :\n",
    "c’est à dire [ 3, 2, 1] sans modifier L  \n",
    "Vous n'oublierez pas de préciser les spécifications et les tests.\n"
   ]
  },
  {
   "cell_type": "code",
   "execution_count": 1,
   "metadata": {},
   "outputs": [],
   "source": [
    "#votre code ci-dessous    \"\"\"\n",
    "    \n",
    "    \n"
   ]
  },
  {
   "cell_type": "markdown",
   "metadata": {},
   "source": [
    "**Exercice 2 :** Compléter les scripts suivants pour faire fonctionner l'algorithme de Notation Polonaise inverse. Il faut adapter celui vu en cours.\n",
    "\n",
    "Enoncé :  \n",
    "Il s’agit par exemple d’évaluer (5 + 2) * 3 en partant de la liste [5,2,+,3,*] , voici l’algorithme :   \n",
    "\n",
    "1.\tOn parcourt la liste L ou expr\n",
    "2.\tSi l’élément lu est un nombre on l’empile sur une pile P\n",
    "3.\tSi l’élément lu est un opérateur parmi +,-,* ou / on dépile P deux fois et on calcule le résultat de l’opération associée à l’opérateur et  appliquée aux deux éléments dépilés.\n",
    "4.\tCe résultat est empilé sur la pile P\n",
    "5.\tUne fois le parcours de la liste terminé, la dernière valeur dans la pile est le résultat du calcul  \n",
    "Calculer le résultat de l’opération associé à l’opérateur se fait par l’intermédiaire d’un dictionnaire qui fait l’association entre le symbole de l’opérateur par exemple ‘+’ et la fonction utilisée, ici somme()\n",
    "\n",
    "Questions : \n",
    "1. Compléter les fonctions somme, produit, différece et écrie la fonction quotient\n",
    "2. Ecrire la spécification de la fonction evaluer()\n",
    "3. Compléter la fonction evaluer() et le programme principal. Ecrire deux nouveaux tests dans le programme principal"
   ]
  },
  {
   "cell_type": "code",
   "execution_count": null,
   "metadata": {},
   "outputs": [],
   "source": [
    "def somme(a,b) :\n",
    "    \"\"\"\n",
    "    Paramètres   ----------  a : int,float  b :int,float         \n",
    "    Résultat    --------  int,float\n",
    "     Renvoie la somme de a et b        \n",
    "    Tests   --------\n",
    "    >>> somme(4,2)\n",
    "    6\n",
    "    \"\"\"\n",
    "    return ....\n",
    "\n",
    "def difference(a,b) :\n",
    "    \"\"\"\n",
    "    Paramètres   ----------  a : int,float  b :int,float         \n",
    "    Résultat    --------  int,float\n",
    "     Renvoie la différence de a et b        \n",
    "    Tests   --------\n",
    "    >>> difference(4,2)\n",
    "    2\n",
    "    \"\"\"\n",
    "    .........\n",
    "\n",
    "def produit(a,b) :\n",
    "    \"\"\"\n",
    "    Paramètres   ----------  a : int,float  b :int,float         \n",
    "    Résultat    --------  int,float\n",
    "     Renvoie le produit de a et b        \n",
    "    Tests   --------\n",
    "    >>> produit(4,2)\n",
    "    8\n",
    "    \"\"\"\n",
    "    ....\n",
    "    \n",
    "def evaluer(expr,op) :\n",
    "\n",
    "    \"\"\"\n",
    "    A COMPLETER\n",
    "    \n",
    "    Tests\n",
    "    --------\n",
    "    >>> evaluer([5, 2, '+', 3, '*'],op)\n",
    "    21\n",
    "    >>> evaluer([2,5,'-',3,'*',5,4,'+',10,'*','+'],op)\n",
    "    81\n",
    "    \"\"\"\n",
    "    pile = []\n",
    "    for ...... in ...... :\n",
    "        if ...... in ...... :\n",
    "            y = pile.pop()\n",
    "            x = .........\n",
    "            pile.append(op[element](x,y))\n",
    "        else :\n",
    "            ......................\n",
    "    return ......\n",
    "\n",
    "#programme principal\n",
    "op={'+':somme, ............}\n",
    "assert evaluer([5, 2, '+', 3, '*'],op)== ....\n",
    "assert evaluer([2,5,'-',3,'*',5,4,'+',10,'*','+'],op)== ...."
   ]
  },
  {
   "cell_type": "markdown",
   "metadata": {},
   "source": [
    "## TP BAC - ENTRAINEMENT 2 "
   ]
  },
  {
   "cell_type": "markdown",
   "metadata": {},
   "source": [
    "**Exercice 1:** Ecrire une fonction récursive qui calcule le nième terme d'une suite arithmétique de premier terme a et de raison r données.  \n",
    "C'est à dire le premier terme de la suite u(0)=a ,il est donné dans l'énoncé, et la formule est la suivante :  \n",
    "u(n+1)=u(n)+r où r est donné lui aussi dans l'énoncé\n",
    "Vous n'oublierez pas de préciser la spécification  \n",
    "Tester le programme pour a=5 et r=10, on cherche u(100)  \n",
    "Tester le programme pour a=0 et r=-5, on cherche u(20)"
   ]
  },
  {
   "cell_type": "code",
   "execution_count": null,
   "metadata": {},
   "outputs": [],
   "source": [
    "#votre script\n"
   ]
  },
  {
   "cell_type": "markdown",
   "metadata": {},
   "source": [
    "**Exercice 2 :**  \n",
    "On vous donne la classe Pile() et la classe File() suivnate.  \n",
    "Compléter le programme pour répondre aux questions suivantes\n",
    "1. Dans le programme principal, choisir 20 nombres entiers au hasard entre 1 et 100, et les empiler dans une pile P1\n",
    "2. Compléter le fonction minimum() qui recherche le minimum de la pile sans changer la pile. L'utiliser dans le programme principal\n",
    "3. Compléter la fonction copieP() qui copie tous les éléments d'une Pile P dans une liste L sans changer la pile.\n",
    "4. Compléter le jeu de test dans le programme principal qui va comparer le minimum de la Pile avec le minimum de la liste. On rappelle que min(L) donne le minimum d'une liste L.\n",
    "\n"
   ]
  },
  {
   "cell_type": "code",
   "execution_count": null,
   "metadata": {},
   "outputs": [],
   "source": [
    "class Pile():\n",
    "    \"\"\"création de la classe Pile avec le type list\"\"\"\n",
    "    def __init__(self):\n",
    "        \"\"\"initialisation Pile vide\"\"\"\n",
    "        self.liste=[]\n",
    "        \n",
    "    def vide(self):\n",
    "        \"\"\"teste si la pile est vide\"\"\"\n",
    "        if self.liste==[] :\n",
    "            return True\n",
    "        else :\n",
    "            return False\n",
    "        \n",
    "    def depiler(self):\n",
    "        if self.vide()==False :\n",
    "            return self.liste.pop()   #pop() => dernier élément donc le dernier entré\n",
    "    \n",
    "    def empiler(self,x):\n",
    "        self.L.append(x)\n",
    "        \n",
    "    def affichage(self):\n",
    "        for i in range(len(self.liste)) : \n",
    "            print(self.liste[-i-1])\n",
    "            \n",
    "    def sommet(self):\n",
    "        \"\"\"renvoie le sommet de la Pile\"\"\"\n",
    "        return self.liste[-1]\n",
    "\n",
    "\n",
    "#FONCTIONS \n",
    "def minimmum(P):\n",
    "    \"\"\"Ecrire la spécification\"\"\"\n",
    "    m=0\n",
    "    P1=...\n",
    "    while .....==False :\n",
    "        N=P.depiler()\n",
    "        if N<m :\n",
    "            ......\n",
    "        P1.empiler(...)\n",
    "            \n",
    "    while P1.vide()==False :\n",
    "        ....\n",
    "        ....\n",
    "    return(m)\n",
    "\n",
    "def copieP(P):\n",
    "    \"\"\"copie tous les éléments de la Pile P dans une liste L \n",
    "    P -> objet de type Pile\n",
    "    L -> list \"\"\"\n",
    "    L=[]\n",
    "    P1=Pile()\n",
    "    #je parcours la pile, je dépile les éléments au fur et à mesure est les enregistre dans la liste L\n",
    "    #et dans la pile intermédiaire P1\n",
    "    while P.vide()==False :\n",
    "        ...\n",
    "        ...\n",
    "        ...\n",
    "    #je parcours la pile P1 pour remmettre tous les éléments dans le pile P\n",
    "    while P1.vide()==False :\n",
    "        ...\n",
    "        ...\n",
    "    #je retourne la liste L\n",
    "    return ...\n",
    "    \n",
    "    \n",
    "    \n",
    "#Programme principal\n",
    "\n",
    "\n",
    "#jeu de tests : je vérifie sur des piles au hasard que la fonction minimum et la fonction min sur la liste copie de \n",
    "# la Pile donne le même résultat\n",
    "\n"
   ]
  },
  {
   "cell_type": "code",
   "execution_count": null,
   "metadata": {},
   "outputs": [],
   "source": []
  }
 ],
 "metadata": {
  "kernelspec": {
   "display_name": "Python 3",
   "language": "python",
   "name": "python3"
  },
  "language_info": {
   "codemirror_mode": {
    "name": "ipython",
    "version": 3
   },
   "file_extension": ".py",
   "mimetype": "text/x-python",
   "name": "python",
   "nbconvert_exporter": "python",
   "pygments_lexer": "ipython3",
   "version": "3.7.3"
  }
 },
 "nbformat": 4,
 "nbformat_minor": 2
}
